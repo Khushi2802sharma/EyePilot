{
 "cells": [
  {
   "cell_type": "code",
   "execution_count": 1,
   "id": "2a88b59f",
   "metadata": {},
   "outputs": [
    {
     "name": "stdout",
     "output_type": "stream",
     "text": []
    },
    {
     "name": "stdout",
     "output_type": "stream",
     "text": []
    }
   ],
   "source": [
    "# For monitoring web camera and performing image minipulations\n",
    "import cv2\n",
    "# For performing array operations\n",
    "import numpy as np\n",
    "# For creating and removing directories\n",
    "import os\n",
    "import shutil\n",
    "%pip install pynput\n",
    "# For recognizing and performing actions on mouse presses\n",
    "from pynput.mouse import Listener"
   ]
  },
  {
   "cell_type": "code",
   "execution_count": 2,
   "id": "39950678",
   "metadata": {},
   "outputs": [],
   "source": [
    "def normalize(x):\n",
    "    minn, maxx = x.min(), x.max()\n",
    "    return (x - minn) / (maxx - minn)"
   ]
  },
  {
   "cell_type": "code",
   "execution_count": 8,
   "id": "9586ef01",
   "metadata": {},
   "outputs": [],
   "source": [
    "import cv2\n",
    "# Load the cascade classifier detection object\n",
    "cascade = cv2.CascadeClassifier(r'C:\\Users\\aksha\\OneDrive\\Desktop\\Folders\\MINOR PROJECT\\research papers on mouse using eye\\Eye-Ball-Cursor-Movement-Using-Deep-Learning-main\\haarcascade_eye.xml')\n",
    "# Turn on the web camera\n",
    "video_capture = cv2.VideoCapture(0)\n",
    "# Read data from the web camera (get the frame)\n"
   ]
  },
  {
   "cell_type": "code",
   "execution_count": 9,
   "id": "0b956338",
   "metadata": {},
   "outputs": [],
   "source": [
    "def scan(image_size=(32, 32)):\n",
    "    _, frame = video_capture.read()\n",
    "    gray = cv2.cvtColor(frame, cv2.COLOR_BGR2GRAY)\n",
    "    boxes = cascade.detectMultiScale(gray, 1.3, 10)\n",
    "    if len(boxes) == 2:\n",
    "        eyes = []\n",
    "        for box in boxes:\n",
    "            x, y, w, h = box\n",
    "            eye = frame[y:y + h, x:x + w]\n",
    "            eye = cv2.resize(eye, image_size)\n",
    "            eye = normalize(eye)\n",
    "            eye = eye[10:-10, 5:-5]\n",
    "            eyes.append(eye)\n",
    "        return (np.hstack(eyes) * 255).astype(np.uint8)\n",
    "    else:\n",
    "        return None"
   ]
  },
  {
   "cell_type": "code",
   "execution_count": null,
   "id": "bd754a0e",
   "metadata": {},
   "outputs": [
    {
     "name": "stdout",
     "output_type": "stream",
     "text": []
    }
   ],
   "source": [
    "import cv2\n",
    "from pynput.mouse import Listener\n",
    "def on_click(x, y, button, pressed):\n",
    "    if pressed:\n",
    "        print (x, y,button)\n",
    "        video_capture = cv2.VideoCapture(0)\n",
    "        root=\"C:\\Users\\aksha\\OneDrive\\Desktop\\Folders\\MINOR PROJECT\\research papers on mouse using eye\\Eye-Ball-Cursor-Movement-Using-Deep-Learning-main\\eye_pics\"\n",
    "        eyes = scan()\n",
    "        # If the function returned None, something went wrong\n",
    "        if not eyes is None:\n",
    "            print(\"sorry\")\n",
    "            # Save the image\n",
    "            filename = root + \"{} {} {}.jpeg\".format(x, y, button)\n",
    "            cv2.imwrite(filename, eyes)\n",
    "        \n",
    "with Listener(on_click = on_click) as listener:\n",
    "    listener.join()"
   ]
  },
  {
   "cell_type": "code",
   "execution_count": null,
   "id": "3beab053",
   "metadata": {},
   "outputs": [],
   "source": [
    "video_capture.release()\n",
    "cv2.destroyAllWindows()"
   ]
  },
  {
   "cell_type": "code",
   "execution_count": null,
   "id": "049b6dd2",
   "metadata": {},
   "outputs": [],
   "source": []
  }
 ],
 "metadata": {
  "kernelspec": {
   "display_name": "Python 3",
   "language": "python",
   "name": "python3"
  },
  "language_info": {
   "codemirror_mode": {
    "name": "ipython",
    "version": 3
   },
   "file_extension": ".py",
   "mimetype": "text/x-python",
   "name": "python",
   "nbconvert_exporter": "python",
   "pygments_lexer": "ipython3",
   "version": "3.12.3"
  }
 },
 "nbformat": 4,
 "nbformat_minor": 5
}
